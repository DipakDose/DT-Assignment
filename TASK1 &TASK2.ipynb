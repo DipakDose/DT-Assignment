{
 "cells": [
  {
   "cell_type": "markdown",
   "id": "e455fccf-d660-4bc8-8a66-4fa7df494065",
   "metadata": {},
   "source": [
    "## TASK-1"
   ]
  },
  {
   "cell_type": "code",
   "execution_count": 51,
   "id": "697fa031-c2fc-42e2-b139-443146a8b174",
   "metadata": {},
   "outputs": [],
   "source": [
    "# importing necessary libraries\n",
    "import pandas as pd\n",
    "import numpy as np"
   ]
  },
  {
   "cell_type": "code",
   "execution_count": 8,
   "id": "ecf45917-8c1e-4c69-8c4a-ef647216132f",
   "metadata": {},
   "outputs": [],
   "source": [
    "df=pd.read_excel(\"Sample Data Set For Main Tasks.xlsx\",header=3)  # importing datset"
   ]
  },
  {
   "cell_type": "code",
   "execution_count": 55,
   "id": "d22020ca-f412-4c98-91c3-20df94c9e1c7",
   "metadata": {},
   "outputs": [
    {
     "data": {
      "text/html": [
       "<div>\n",
       "<style scoped>\n",
       "    .dataframe tbody tr th:only-of-type {\n",
       "        vertical-align: middle;\n",
       "    }\n",
       "\n",
       "    .dataframe tbody tr th {\n",
       "        vertical-align: top;\n",
       "    }\n",
       "\n",
       "    .dataframe thead th {\n",
       "        text-align: right;\n",
       "    }\n",
       "</style>\n",
       "<table border=\"1\" class=\"dataframe\">\n",
       "  <thead>\n",
       "    <tr style=\"text-align: right;\">\n",
       "      <th></th>\n",
       "      <th>DATE</th>\n",
       "      <th>HS CODE</th>\n",
       "      <th>PRODUCT</th>\n",
       "      <th>QUANTITY</th>\n",
       "      <th>UNIT</th>\n",
       "      <th>UNIT RATE</th>\n",
       "      <th>CURRENCY</th>\n",
       "      <th>TOTAL USD</th>\n",
       "      <th>DESTINATION</th>\n",
       "      <th>EXPORTER</th>\n",
       "      <th>Unnamed: 10</th>\n",
       "    </tr>\n",
       "  </thead>\n",
       "  <tbody>\n",
       "    <tr>\n",
       "      <th>0</th>\n",
       "      <td>21-12-2020</td>\n",
       "      <td>29372900</td>\n",
       "      <td>DRUGS: TRIAMCINOLONE ACETONIDE (TRIAMCIN OLONE...</td>\n",
       "      <td>10.00</td>\n",
       "      <td>KGS</td>\n",
       "      <td>1582.72</td>\n",
       "      <td>USD</td>\n",
       "      <td>16110.00</td>\n",
       "      <td>BANGLADESH</td>\n",
       "      <td>IPCA LABORATORIES LIMITED</td>\n",
       "      <td>ORIOIN PHARMA LIMITED</td>\n",
       "    </tr>\n",
       "    <tr>\n",
       "      <th>1</th>\n",
       "      <td>21-12-2020</td>\n",
       "      <td>29372900</td>\n",
       "      <td>DRUGS: BECLOMETHASONE DIPROPIONATE BP(BE CLOME...</td>\n",
       "      <td>0.15</td>\n",
       "      <td>KGS</td>\n",
       "      <td>4421.02</td>\n",
       "      <td>USD</td>\n",
       "      <td>675.00</td>\n",
       "      <td>BANGLADESH</td>\n",
       "      <td>IPCA LABORATORIES LIMITED</td>\n",
       "      <td>TO ORDER OF</td>\n",
       "    </tr>\n",
       "    <tr>\n",
       "      <th>2</th>\n",
       "      <td>21-12-2020</td>\n",
       "      <td>29096000</td>\n",
       "      <td>DRUGS: ARTEMETHER INP</td>\n",
       "      <td>550.00</td>\n",
       "      <td>KGS</td>\n",
       "      <td>245.61</td>\n",
       "      <td>USD</td>\n",
       "      <td>137500.00</td>\n",
       "      <td>GHANA</td>\n",
       "      <td>IPCA LABORATORIES LIMITED</td>\n",
       "      <td>KINA PHARMA</td>\n",
       "    </tr>\n",
       "    <tr>\n",
       "      <th>3</th>\n",
       "      <td>21-12-2020</td>\n",
       "      <td>29225021</td>\n",
       "      <td>DRUGS: FUROSEMIDE PH.EUR.</td>\n",
       "      <td>1.00</td>\n",
       "      <td>KGS</td>\n",
       "      <td>121.26</td>\n",
       "      <td>USD</td>\n",
       "      <td>123.42</td>\n",
       "      <td>CHINA</td>\n",
       "      <td>IPCA LABORATORIES LIMITED</td>\n",
       "      <td>TO ORDER OF</td>\n",
       "    </tr>\n",
       "    <tr>\n",
       "      <th>4</th>\n",
       "      <td>21-12-2020</td>\n",
       "      <td>29039990</td>\n",
       "      <td>DRUGS: LUMEFANTRINE (LUMEFANTRINE INP)</td>\n",
       "      <td>3200.00</td>\n",
       "      <td>KGS</td>\n",
       "      <td>35.37</td>\n",
       "      <td>USD</td>\n",
       "      <td>115200.00</td>\n",
       "      <td>GHANA</td>\n",
       "      <td>IPCA LABORATORIES LIMITED</td>\n",
       "      <td>KINA PHARMA</td>\n",
       "    </tr>\n",
       "  </tbody>\n",
       "</table>\n",
       "</div>"
      ],
      "text/plain": [
       "         DATE   HS CODE                                            PRODUCT  \\\n",
       "0  21-12-2020  29372900  DRUGS: TRIAMCINOLONE ACETONIDE (TRIAMCIN OLONE...   \n",
       "1  21-12-2020  29372900  DRUGS: BECLOMETHASONE DIPROPIONATE BP(BE CLOME...   \n",
       "2  21-12-2020  29096000                              DRUGS: ARTEMETHER INP   \n",
       "3  21-12-2020  29225021                          DRUGS: FUROSEMIDE PH.EUR.   \n",
       "4  21-12-2020  29039990             DRUGS: LUMEFANTRINE (LUMEFANTRINE INP)   \n",
       "\n",
       "   QUANTITY UNIT  UNIT RATE CURRENCY  TOTAL USD DESTINATION  \\\n",
       "0     10.00  KGS    1582.72      USD   16110.00  BANGLADESH   \n",
       "1      0.15  KGS    4421.02      USD     675.00  BANGLADESH   \n",
       "2    550.00  KGS     245.61      USD  137500.00       GHANA   \n",
       "3      1.00  KGS     121.26      USD     123.42       CHINA   \n",
       "4   3200.00  KGS      35.37      USD  115200.00       GHANA   \n",
       "\n",
       "                    EXPORTER            Unnamed: 10  \n",
       "0  IPCA LABORATORIES LIMITED  ORIOIN PHARMA LIMITED  \n",
       "1  IPCA LABORATORIES LIMITED            TO ORDER OF  \n",
       "2  IPCA LABORATORIES LIMITED            KINA PHARMA  \n",
       "3  IPCA LABORATORIES LIMITED            TO ORDER OF  \n",
       "4  IPCA LABORATORIES LIMITED            KINA PHARMA  "
      ]
     },
     "execution_count": 55,
     "metadata": {},
     "output_type": "execute_result"
    }
   ],
   "source": [
    "df.head()   # Data look\n"
   ]
  },
  {
   "cell_type": "code",
   "execution_count": 11,
   "id": "92718828-fcef-40d7-902f-5ba7d1bd1be2",
   "metadata": {},
   "outputs": [
    {
     "data": {
      "text/plain": [
       "84"
      ]
     },
     "execution_count": 11,
     "metadata": {},
     "output_type": "execute_result"
    }
   ],
   "source": [
    "df.PRODUCT.nunique() # number of unique product in data set"
   ]
  },
  {
   "cell_type": "code",
   "execution_count": 13,
   "id": "6c807cba-ebbe-4ea9-b817-9d4c3fac3976",
   "metadata": {},
   "outputs": [
    {
     "data": {
      "text/plain": [
       "0"
      ]
     },
     "execution_count": 13,
     "metadata": {},
     "output_type": "execute_result"
    }
   ],
   "source": [
    "df.duplicated().sum()  # finnding duplicates if any"
   ]
  },
  {
   "cell_type": "code",
   "execution_count": 15,
   "id": "692b74d2-fe1e-43c6-8937-a5d7f860abd9",
   "metadata": {},
   "outputs": [
    {
     "data": {
      "text/plain": [
       "DATE           0\n",
       "HS CODE        0\n",
       "PRODUCT        0\n",
       "QUANTITY       0\n",
       "UNIT           0\n",
       "UNIT RATE      0\n",
       "CURRENCY       0\n",
       "TOTAL USD      0\n",
       "DESTINATION    0\n",
       "EXPORTER       0\n",
       "Unnamed: 10    0\n",
       "dtype: int64"
      ]
     },
     "execution_count": 15,
     "metadata": {},
     "output_type": "execute_result"
    }
   ],
   "source": [
    "df.isna().sum()  # cheaking for NULL values"
   ]
  },
  {
   "cell_type": "code",
   "execution_count": null,
   "id": "8b391393-e24f-48cc-8449-937f1dce394e",
   "metadata": {},
   "outputs": [],
   "source": [
    "# we have to find product having compositions but different name \n",
    "# we can do that by using HS CODE\n",
    "# each HS code is unique for a specific type of product. \n",
    "# The Harmonized System (HS) is an internationally standardized system that assigns a specific code to each type of product based on its characteristics, composition, and intended use. "
   ]
  },
  {
   "cell_type": "code",
   "execution_count": 30,
   "id": "1cc2d743-9375-45b9-bb4e-fcc1276a4ad6",
   "metadata": {},
   "outputs": [],
   "source": [
    "df2=df.groupby(by='HS CODE')['PRODUCT'].count()  # counting number of product having same HS CODE "
   ]
  },
  {
   "cell_type": "code",
   "execution_count": 42,
   "id": "f6457421-c253-40f9-88f6-adbcee197676",
   "metadata": {},
   "outputs": [
    {
     "data": {
      "text/plain": [
       "HS CODE\n",
       "29039990     2\n",
       "29096000     2\n",
       "29181320     7\n",
       "29181390     1\n",
       "29221990     4\n",
       "29223900     1\n",
       "29225021     7\n",
       "29242990     4\n",
       "29252990     2\n",
       "29313900     1\n",
       "29321990     2\n",
       "29322090     1\n",
       "29332990     7\n",
       "29333920     3\n",
       "29334900     4\n",
       "29335920     1\n",
       "29335990    19\n",
       "29359090    11\n",
       "29362990     2\n",
       "29371900     2\n",
       "29372900    11\n",
       "29392040     1\n",
       "29419090     5\n",
       "29420027     7\n",
       "29420034     3\n",
       "Name: PRODUCT, dtype: int64"
      ]
     },
     "execution_count": 42,
     "metadata": {},
     "output_type": "execute_result"
    }
   ],
   "source": [
    "df2  # number of product across each HS code"
   ]
  },
  {
   "cell_type": "code",
   "execution_count": 43,
   "id": "d838fb90-3527-406c-be57-16df75f85bd9",
   "metadata": {},
   "outputs": [],
   "source": [
    "hs_code=[]\n",
    "for index,value in enumerate(df2):      # making list of HS code having more that one product listed\n",
    "    if value>1:\n",
    "        hs_code.append(df2.index[index])\n",
    "        "
   ]
  },
  {
   "cell_type": "code",
   "execution_count": 45,
   "id": "640ecab5-8091-4ca7-8234-b080b50ba245",
   "metadata": {},
   "outputs": [
    {
     "data": {
      "text/plain": [
       "[29039990,\n",
       " 29096000,\n",
       " 29181320,\n",
       " 29221990,\n",
       " 29225021,\n",
       " 29242990,\n",
       " 29252990,\n",
       " 29321990,\n",
       " 29332990,\n",
       " 29333920,\n",
       " 29334900,\n",
       " 29335990,\n",
       " 29359090,\n",
       " 29362990,\n",
       " 29371900,\n",
       " 29372900,\n",
       " 29419090,\n",
       " 29420027,\n",
       " 29420034]"
      ]
     },
     "execution_count": 45,
     "metadata": {},
     "output_type": "execute_result"
    }
   ],
   "source": [
    "hs_code  #  this are  HS codes associates with more than one product we have to find those product using this HS CODES"
   ]
  },
  {
   "cell_type": "code",
   "execution_count": 46,
   "id": "eb4f24f9-35f8-4c57-b913-52adf3e74971",
   "metadata": {},
   "outputs": [],
   "source": [
    "products=[]\n",
    "for code in hs_code:\n",
    "    lst=df[df['HS CODE']==code].PRODUCT.to_list()   # finding product having above HS  code \n",
    "    products.append(lst)"
   ]
  },
  {
   "cell_type": "code",
   "execution_count": 47,
   "id": "72d5524b-4419-40dd-b74d-c382b083cdb9",
   "metadata": {},
   "outputs": [
    {
     "data": {
      "text/plain": [
       "[['DRUGS: LUMEFANTRINE (LUMEFANTRINE INP)', 'DRUGS: LUMEFANTRINE PH EUR'],\n",
       " ['DRUGS: ARTEMETHER INP', 'DRUGS: ARTEMETHER PH EUR'],\n",
       " ['METROPROLOL TARTRATE',\n",
       "  'DRUGS: METOPROLOL TARTRATE (METOPROLOL T ARTRATE PH.EUR.)',\n",
       "  'DRUGS METOPROLOL TARTRATE (METOPROLOL TA RTRATE USP)',\n",
       "  'DRUGS METOPROLOL TARTRATE (METOPROLOL TA',\n",
       "  'DRUGS: METOPROLOL TARTRATE (METOPROLOL T ARTRATE USP)',\n",
       "  'DRUGS: METOPROLOL TARTRATE PH EUR',\n",
       "  'DRUGS: METOPROLOL TARTRATE PH EUR'],\n",
       " ['DRUGS: BISOPROLOL FUMARATE USP',\n",
       "  'DRUGS: BISOPROLOL FUMARATE USP',\n",
       "  'DRUGS: BISOPROLOL FUMARATE USP',\n",
       "  'DRUGS: BISOPROLOL FUMARATE USP'],\n",
       " ['DRUGS: FUROSEMIDE PH.EUR.',\n",
       "  'DRUGS: FUROSEMIDE PH.EUR',\n",
       "  'DRUGS: FRUSEMIDE/ FUROSEMIDE USP',\n",
       "  'DRUGS: FUROSEMIDE PH.EUR',\n",
       "  'DRUGS : FUROSEMIDE USP',\n",
       "  'DRUGS FUROSEMIDE BP',\n",
       "  'DRUGS: FUROSEMIDE PH.EUR'],\n",
       " ['DRUGS VALSARTAN USP',\n",
       "  'DRUGS: VALSARTAN USP',\n",
       "  'DRUGS: VALSARTAN PH.EUR.',\n",
       "  'DRUGS: VALSARTAN PH.EUR.'],\n",
       " ['DRUGS: METFORMIN HYDROCHLORIDE USP', 'DRUGS METFORMIN HYDROCHLORIDE BP'],\n",
       " ['DRUGS: BENZBROMARONE JP', 'DRUGS: BENZBROMARONE JP'],\n",
       " ['LOSARTAN POTASSIUM(LOSARTAN POTASSIUM US P)',\n",
       "  'DRUGS:LOSARTAN POTASSIUM(LOSARTAN POTASS IUM USP)',\n",
       "  'DRUGS: LOSARTAN POTASSIUM (LOSARTAN POTA SSIUM USP)',\n",
       "  'DRUGS: FLUCONAZOLE PH.EUR.',\n",
       "  'DRUGS: LOSARTAN POTASSIUM (LOSARTAN POTA SSIUM USP)',\n",
       "  'DRUGS: LOSARTAN POTASSIUM (LOSARTAN POTA SSIUM USP)',\n",
       "  'DRUGS: LOSARTAN POTASSIUM (LOSARTAN POTA SSIUM USP)'],\n",
       " ['DRUGS: METHYL PHENIDATE HYDROCHLORIDE PH .EUR.',\n",
       "  'DRUGS: PAROXETINE HCL HEMIHYDRATE PH.EUR . (PAROXETINE HCL HEMIHYDRATE)',\n",
       "  'DRUGS: PAROXETINE HCL HEMIHYDRATE (PAROX ETINE HYDROCHLORIDE HEMIHYDRATE USP)'],\n",
       " ['DRUGS: HYDROXYCHLOROQUINE SULPHATE / SUL FATE (HYDROXYCHLOROQUINE SULPHATE USP)',\n",
       "  'DRUGS: AMODIAQUINE HYDROCHLORIDE USP',\n",
       "  'DRUGS: AMODIAQUINE HYDROCHLORIDE USP',\n",
       "  'DRUGS: HYDROXYCHLOROQUINE SULPHATE / SUL FATE (HYDROXYCHLOROQUINE SULPHATE USP)'],\n",
       " ['DRUGS: PYRANTEL PAMOATE USP (PYRANTEL PA MOATE)',\n",
       "  'DRUGS PYRANTEL PAMOATE (PYRANTEL PAMOATE USP)',\n",
       "  'DRUGS PYRANTEL PAMOATE (PYRANTEL PAMOAT E USP)',\n",
       "  'DRUGS OXANTEL PAMOATE',\n",
       "  'DRUGS: OXANTEL PAMOATE',\n",
       "  'DRUGS ALLOPURINOL (ALLOPURINOL PH.EUR. )',\n",
       "  'DRUGS: PYRANTEL PAMOATE USP (PYRANTEL PA MOATE)',\n",
       "  'DRUGS ALLOPURINOL (ALLOPURINOL PH.EUR.',\n",
       "  'DRUGS: PYRANTEL PAMOATE (PYRANTEL PAMOAT',\n",
       "  'DRUGS ALLOPURINOL (ALLOPURINOL USP )',\n",
       "  'DRUGS OXANTEL PAMOATE',\n",
       "  'DRUGS PYRANTEL PAMOATE USP (PYRANTEL PAM OATE )',\n",
       "  'DRUGS PYRANTEL PAMOATE USP (PYRANTEL PA MOATE )',\n",
       "  'DRUGS ALLOPURINOL (ALLOPURINOL PH.EUR. )',\n",
       "  'DRUGS: CETIRIZINE DI HYDROCHLORIDE PH.EU R.',\n",
       "  'DRUGS: PYRANTEL PAMOATE USP (PYRANTEL PA MOATE)',\n",
       "  'DRUGS: CETIRIZINE DI HYDROCHLORIDE PH.EU',\n",
       "  'DRUGS: CETIRIZINE DI HYDROCHLORIDE PH.EU R.',\n",
       "  'DRUGS: CETIRIZINE DI HYDROCHLORIDE PH.EU R.'],\n",
       " ['DRUGS: HYDROCHLOROTHIAZIDE PH.EUR.',\n",
       "  'DRUGS: TORSEMIDE PH.EUR.',\n",
       "  'DRUGS HYDROCHLOROTHIAZIDE PH.EUR.',\n",
       "  'DRUGS: GLIMEPIRIDE USP',\n",
       "  'DRUGS: GLIMEPIRIDE USP',\n",
       "  'DRUGS: HYDROCHLOROTHIAZIDE PH.EUR.',\n",
       "  'DRUGS:CHLORTHALIDONE / CHLORTALIDONE USP (LUT ARN NO.AD230320003817M Dated 21.03. 2020)',\n",
       "  'DRUGS: HYDROCHLOROTHIAZIDE BP',\n",
       "  'DRUGS: HYDROCHLOROTHIAZIDE BP',\n",
       "  'DRUGS: BENDROFLUMETHIAZIDE',\n",
       "  'DRUGS: HYDROCHLOROTHIAZIDE BP'],\n",
       " ['DRUGS: CALCITRIOL EP (WORKING STANDARDS)', 'DRUGS: CALCITRIOL EP'],\n",
       " ['DRUGS: TESTOSTERONE PROPIONATE PH.EUR.',\n",
       "  'DRUGS  TESTOSTERONE UNDECANOATE  BATCH N O: 19002TU1RN  MFG DT: FEB-2019  RE-TEST DT: JAN 2022'],\n",
       " ['DRUGS: TRIAMCINOLONE ACETONIDE (TRIAMCIN OLONE ACETONIDE BP)',\n",
       "  'DRUGS: BECLOMETHASONE DIPROPIONATE BP(BE CLOMETHASONE DIPROPIONATE)',\n",
       "  'DRUGS: BETAMETHASONE DIPROPIONATE MIC (B',\n",
       "  'DRUGS: BECLOMETHASONE DIPROPIONATE MIC ( BECLOMETHASONE DIPROPIONATE)',\n",
       "  'DRUGS: BETAMETHASONE SODIUM PHOSPHATE EP',\n",
       "  'DRUGS: TRIAMCINOLONE ACETONIDE (TRIAMCIN OLONE ACETONIDE USP)',\n",
       "  'DRUGS: TESTOSTERONE USP',\n",
       "  'DRUGS: TRIAMCINOLONE ACETONIDE (TRIAMCIN OLONE ACETONIDE USP/BP)',\n",
       "  'DRUGS: TESTOSTERONE PH.EUR.',\n",
       "  'DRUGS : TESTOSTERONE PH. EUR.',\n",
       "  'DRUGS : METHYLPREDNISOLONE ACEPONATE IHT'],\n",
       " ['DRUGS: FLUMEQUINE (FLUMEQUINE PH.EUR)',\n",
       "  'DRUGS: FLUMEQUINE (FLUMEQUINE PH.EUR)',\n",
       "  'DRUGS: FLUMEQUINE PH.EUR. (FLUMEQUINE)',\n",
       "  'DRUGS FLUMEQUINE (FLUMEQUINE PH.EUR)',\n",
       "  'DRUGS: FLUMEQUINE (FLUMEQUINE PH.EUR)'],\n",
       " ['DRUGS.PROPRANOLOL HYDROCHLORIDE Ph.Eur.( TABLET GRADE) (Batch No. 20031PRTB & 200 32PRTB Mfg Dt :OCT 2020 Retest dt: SEP 2',\n",
       "  'DRUGS.ATENOLOL PH.EUR (BATCH NO.20044A2T B TO 20048A2TB MFG DT:SEP 2020 & OCT 202 0 RETEST DT:AUG 2025 & SEP 2025)',\n",
       "  'DRUGS: ATENOLOL BP',\n",
       "  'DRUGS ATENOLOL PH.EUR',\n",
       "  'PROPRANOLOL HYDROCHLORIDE USP(LUT ARN NO .AD230320003817M Dated 21.03.2020)',\n",
       "  'DRUGS:ATENOLOL USP(LUT ARN NO.AD23032000 3817M Dated 21.03.2020)',\n",
       "  'DRUGS : ATENOLOL PH. EUR.'],\n",
       " ['DRUGS: FAMOTIDINE JP', 'DRUGS: FAMOTIDINE JP', 'DRUGS FAMOTIDINE USP']]"
      ]
     },
     "execution_count": 47,
     "metadata": {},
     "output_type": "execute_result"
    }
   ],
   "source": [
    "products   # this is list of same products having differnt names "
   ]
  },
  {
   "cell_type": "code",
   "execution_count": 49,
   "id": "93ced64d-7dad-460f-96e3-0ddfe0a32563",
   "metadata": {},
   "outputs": [],
   "source": [
    "result=pd.DataFrame({\"HS_CODE\":hs_code,'PRODUCT':products})"
   ]
  },
  {
   "cell_type": "code",
   "execution_count": 50,
   "id": "f1b065a5-92ea-4cd9-a4d0-60af7a6ebc8a",
   "metadata": {},
   "outputs": [
    {
     "data": {
      "text/html": [
       "<div>\n",
       "<style scoped>\n",
       "    .dataframe tbody tr th:only-of-type {\n",
       "        vertical-align: middle;\n",
       "    }\n",
       "\n",
       "    .dataframe tbody tr th {\n",
       "        vertical-align: top;\n",
       "    }\n",
       "\n",
       "    .dataframe thead th {\n",
       "        text-align: right;\n",
       "    }\n",
       "</style>\n",
       "<table border=\"1\" class=\"dataframe\">\n",
       "  <thead>\n",
       "    <tr style=\"text-align: right;\">\n",
       "      <th></th>\n",
       "      <th>HS_CODE</th>\n",
       "      <th>PRODUCT</th>\n",
       "    </tr>\n",
       "  </thead>\n",
       "  <tbody>\n",
       "    <tr>\n",
       "      <th>0</th>\n",
       "      <td>29039990</td>\n",
       "      <td>[DRUGS: LUMEFANTRINE (LUMEFANTRINE INP), DRUGS...</td>\n",
       "    </tr>\n",
       "    <tr>\n",
       "      <th>1</th>\n",
       "      <td>29096000</td>\n",
       "      <td>[DRUGS: ARTEMETHER INP, DRUGS: ARTEMETHER PH EUR]</td>\n",
       "    </tr>\n",
       "    <tr>\n",
       "      <th>2</th>\n",
       "      <td>29181320</td>\n",
       "      <td>[METROPROLOL TARTRATE, DRUGS: METOPROLOL TARTR...</td>\n",
       "    </tr>\n",
       "    <tr>\n",
       "      <th>3</th>\n",
       "      <td>29221990</td>\n",
       "      <td>[DRUGS: BISOPROLOL FUMARATE USP, DRUGS: BISOPR...</td>\n",
       "    </tr>\n",
       "    <tr>\n",
       "      <th>4</th>\n",
       "      <td>29225021</td>\n",
       "      <td>[DRUGS: FUROSEMIDE PH.EUR., DRUGS: FUROSEMIDE ...</td>\n",
       "    </tr>\n",
       "    <tr>\n",
       "      <th>5</th>\n",
       "      <td>29242990</td>\n",
       "      <td>[DRUGS VALSARTAN USP, DRUGS: VALSARTAN USP, DR...</td>\n",
       "    </tr>\n",
       "    <tr>\n",
       "      <th>6</th>\n",
       "      <td>29252990</td>\n",
       "      <td>[DRUGS: METFORMIN HYDROCHLORIDE USP, DRUGS MET...</td>\n",
       "    </tr>\n",
       "    <tr>\n",
       "      <th>7</th>\n",
       "      <td>29321990</td>\n",
       "      <td>[DRUGS: BENZBROMARONE JP, DRUGS: BENZBROMARONE...</td>\n",
       "    </tr>\n",
       "    <tr>\n",
       "      <th>8</th>\n",
       "      <td>29332990</td>\n",
       "      <td>[LOSARTAN POTASSIUM(LOSARTAN POTASSIUM US P), ...</td>\n",
       "    </tr>\n",
       "    <tr>\n",
       "      <th>9</th>\n",
       "      <td>29333920</td>\n",
       "      <td>[DRUGS: METHYL PHENIDATE HYDROCHLORIDE PH .EUR...</td>\n",
       "    </tr>\n",
       "    <tr>\n",
       "      <th>10</th>\n",
       "      <td>29334900</td>\n",
       "      <td>[DRUGS: HYDROXYCHLOROQUINE SULPHATE / SUL FATE...</td>\n",
       "    </tr>\n",
       "    <tr>\n",
       "      <th>11</th>\n",
       "      <td>29335990</td>\n",
       "      <td>[DRUGS: PYRANTEL PAMOATE USP (PYRANTEL PA MOAT...</td>\n",
       "    </tr>\n",
       "    <tr>\n",
       "      <th>12</th>\n",
       "      <td>29359090</td>\n",
       "      <td>[DRUGS: HYDROCHLOROTHIAZIDE PH.EUR., DRUGS: TO...</td>\n",
       "    </tr>\n",
       "    <tr>\n",
       "      <th>13</th>\n",
       "      <td>29362990</td>\n",
       "      <td>[DRUGS: CALCITRIOL EP (WORKING STANDARDS), DRU...</td>\n",
       "    </tr>\n",
       "    <tr>\n",
       "      <th>14</th>\n",
       "      <td>29371900</td>\n",
       "      <td>[DRUGS: TESTOSTERONE PROPIONATE PH.EUR., DRUGS...</td>\n",
       "    </tr>\n",
       "    <tr>\n",
       "      <th>15</th>\n",
       "      <td>29372900</td>\n",
       "      <td>[DRUGS: TRIAMCINOLONE ACETONIDE (TRIAMCIN OLON...</td>\n",
       "    </tr>\n",
       "    <tr>\n",
       "      <th>16</th>\n",
       "      <td>29419090</td>\n",
       "      <td>[DRUGS: FLUMEQUINE (FLUMEQUINE PH.EUR), DRUGS:...</td>\n",
       "    </tr>\n",
       "    <tr>\n",
       "      <th>17</th>\n",
       "      <td>29420027</td>\n",
       "      <td>[DRUGS.PROPRANOLOL HYDROCHLORIDE Ph.Eur.( TABL...</td>\n",
       "    </tr>\n",
       "    <tr>\n",
       "      <th>18</th>\n",
       "      <td>29420034</td>\n",
       "      <td>[DRUGS: FAMOTIDINE JP, DRUGS: FAMOTIDINE JP, D...</td>\n",
       "    </tr>\n",
       "  </tbody>\n",
       "</table>\n",
       "</div>"
      ],
      "text/plain": [
       "     HS_CODE                                            PRODUCT\n",
       "0   29039990  [DRUGS: LUMEFANTRINE (LUMEFANTRINE INP), DRUGS...\n",
       "1   29096000  [DRUGS: ARTEMETHER INP, DRUGS: ARTEMETHER PH EUR]\n",
       "2   29181320  [METROPROLOL TARTRATE, DRUGS: METOPROLOL TARTR...\n",
       "3   29221990  [DRUGS: BISOPROLOL FUMARATE USP, DRUGS: BISOPR...\n",
       "4   29225021  [DRUGS: FUROSEMIDE PH.EUR., DRUGS: FUROSEMIDE ...\n",
       "5   29242990  [DRUGS VALSARTAN USP, DRUGS: VALSARTAN USP, DR...\n",
       "6   29252990  [DRUGS: METFORMIN HYDROCHLORIDE USP, DRUGS MET...\n",
       "7   29321990  [DRUGS: BENZBROMARONE JP, DRUGS: BENZBROMARONE...\n",
       "8   29332990  [LOSARTAN POTASSIUM(LOSARTAN POTASSIUM US P), ...\n",
       "9   29333920  [DRUGS: METHYL PHENIDATE HYDROCHLORIDE PH .EUR...\n",
       "10  29334900  [DRUGS: HYDROXYCHLOROQUINE SULPHATE / SUL FATE...\n",
       "11  29335990  [DRUGS: PYRANTEL PAMOATE USP (PYRANTEL PA MOAT...\n",
       "12  29359090  [DRUGS: HYDROCHLOROTHIAZIDE PH.EUR., DRUGS: TO...\n",
       "13  29362990  [DRUGS: CALCITRIOL EP (WORKING STANDARDS), DRU...\n",
       "14  29371900  [DRUGS: TESTOSTERONE PROPIONATE PH.EUR., DRUGS...\n",
       "15  29372900  [DRUGS: TRIAMCINOLONE ACETONIDE (TRIAMCIN OLON...\n",
       "16  29419090  [DRUGS: FLUMEQUINE (FLUMEQUINE PH.EUR), DRUGS:...\n",
       "17  29420027  [DRUGS.PROPRANOLOL HYDROCHLORIDE Ph.Eur.( TABL...\n",
       "18  29420034  [DRUGS: FAMOTIDINE JP, DRUGS: FAMOTIDINE JP, D..."
      ]
     },
     "execution_count": 50,
     "metadata": {},
     "output_type": "execute_result"
    }
   ],
   "source": [
    "result"
   ]
  },
  {
   "cell_type": "code",
   "execution_count": 52,
   "id": "b2cc48e7-251c-4018-9401-f24a1f797d79",
   "metadata": {},
   "outputs": [],
   "source": [
    "# this is our final data frame which contain product list with same compositions but different name  having same HS CODE  \n",
    "# Now we can Substitute the one common name for this product and do further analysis."
   ]
  },
  {
   "cell_type": "code",
   "execution_count": 58,
   "id": "ddd45bd6-27b6-4ad1-8cb1-d596ad66b59e",
   "metadata": {},
   "outputs": [
    {
     "data": {
      "text/plain": [
       "['DRUGS: LUMEFANTRINE (LUMEFANTRINE INP)', 'DRUGS: LUMEFANTRINE PH EUR']"
      ]
     },
     "execution_count": 58,
     "metadata": {},
     "output_type": "execute_result"
    }
   ],
   "source": [
    "# example\n",
    "result.loc[0,'PRODUCT']   # this is the list of same products having hs code 29039990. we can replace these product with one commone name to reduce redundency"
   ]
  },
  {
   "cell_type": "code",
   "execution_count": 64,
   "id": "13c54a8a-8438-4fab-9031-0f16bcf74b97",
   "metadata": {},
   "outputs": [
    {
     "data": {
      "text/plain": [
       "Index(['DATE', 'HS CODE', 'PRODUCT', 'QUANTITY', 'UNIT', 'UNIT RATE',\n",
       "       'CURRENCY', 'TOTAL USD', 'DESTINATION', 'EXPORTER', 'Unnamed: 10'],\n",
       "      dtype='object')"
      ]
     },
     "execution_count": 64,
     "metadata": {},
     "output_type": "execute_result"
    }
   ],
   "source": [
    "df.columns"
   ]
  },
  {
   "cell_type": "markdown",
   "id": "53a2187c-994a-441f-93e4-d778939c0e95",
   "metadata": {},
   "source": [
    "## TASK-2"
   ]
  },
  {
   "cell_type": "code",
   "execution_count": 102,
   "id": "741f951b-6eeb-4ff0-92f1-64a44f5f89ba",
   "metadata": {},
   "outputs": [],
   "source": [
    "# for task 2 we will build a function which will take HS code as input and give curresponding output with aggreegating the terms"
   ]
  },
  {
   "cell_type": "code",
   "execution_count": 103,
   "id": "27169fbd-76e8-4600-835c-73c088824df7",
   "metadata": {},
   "outputs": [],
   "source": [
    "def get_agg(hs_code):\n",
    "\n",
    "        prod=[]\n",
    "        Quantity=[]\n",
    "        Unit=[]\n",
    "        Unit_rate=[]\n",
    "        hsc=[]\n",
    "        Currency=[]\n",
    "        Total_usd=[]\n",
    "        for  product in result[result['HS_CODE']==hs_code].PRODUCT.to_list()[0]:\n",
    "            for i in list(df[df['PRODUCT']==product].index):\n",
    "                quantity, unit,urate,currency,usd=df[df['PRODUCT']==product].loc[i,['QUANTITY','UNIT','UNIT RATE','CURRENCY','TOTAL USD']]\n",
    "                prod.append(product)\n",
    "                Quantity.append(quantity)\n",
    "                Unit_rate.append(urate)\n",
    "                Unit.append(unit)\n",
    "                hsc.append(29362990)\n",
    "                Currency.append(currency)\n",
    "                Total_usd.append(usd) \n",
    "            df2=pd.DataFrame()\n",
    "            df2['HS_CODE']=hsc\n",
    "            df2['PRODUCT']=prod\n",
    "            df2[\"QUANTITY\"]=Quantity\n",
    "            df2['Unit']=Unit\n",
    "            df2['UNIT_RATE']=Unit_rate\n",
    "            df2['Currency']=Currency\n",
    "            df2['TOTAL_USD']=Total_usd\n",
    "        \n",
    "        data=df2.sort_values(by='PRODUCT')    # it will sort the product \n",
    "        data2=pd.pivot_table(data,values=['QUANTITY','UNIT_RATE','TOTAL_USD'],index='PRODUCT',aggfunc='sum',margins=True,margins_name=\"TOTAL\")\n",
    "        return data,data2\n",
    "                "
   ]
  },
  {
   "cell_type": "code",
   "execution_count": 104,
   "id": "c27b3275-3c65-45d7-8de3-9013c97d939b",
   "metadata": {},
   "outputs": [],
   "source": [
    "data,data2=get_agg(hs_code=29362990)  # giving hs code as input "
   ]
  },
  {
   "cell_type": "code",
   "execution_count": 105,
   "id": "9145966e-e5fb-43ed-be9a-fa30519b2059",
   "metadata": {},
   "outputs": [
    {
     "data": {
      "text/html": [
       "<div>\n",
       "<style scoped>\n",
       "    .dataframe tbody tr th:only-of-type {\n",
       "        vertical-align: middle;\n",
       "    }\n",
       "\n",
       "    .dataframe tbody tr th {\n",
       "        vertical-align: top;\n",
       "    }\n",
       "\n",
       "    .dataframe thead th {\n",
       "        text-align: right;\n",
       "    }\n",
       "</style>\n",
       "<table border=\"1\" class=\"dataframe\">\n",
       "  <thead>\n",
       "    <tr style=\"text-align: right;\">\n",
       "      <th></th>\n",
       "      <th>HS_CODE</th>\n",
       "      <th>PRODUCT</th>\n",
       "      <th>QUANTITY</th>\n",
       "      <th>Unit</th>\n",
       "      <th>UNIT_RATE</th>\n",
       "      <th>Currency</th>\n",
       "      <th>TOTAL_USD</th>\n",
       "    </tr>\n",
       "  </thead>\n",
       "  <tbody>\n",
       "    <tr>\n",
       "      <th>1</th>\n",
       "      <td>29362990</td>\n",
       "      <td>DRUGS: CALCITRIOL EP</td>\n",
       "      <td>1.54</td>\n",
       "      <td>GMS</td>\n",
       "      <td>4338.39</td>\n",
       "      <td>USD</td>\n",
       "      <td>6777.22</td>\n",
       "    </tr>\n",
       "    <tr>\n",
       "      <th>0</th>\n",
       "      <td>29362990</td>\n",
       "      <td>DRUGS: CALCITRIOL EP (WORKING STANDARDS)</td>\n",
       "      <td>0.02</td>\n",
       "      <td>GMS</td>\n",
       "      <td>24655.64</td>\n",
       "      <td>USD</td>\n",
       "      <td>500.21</td>\n",
       "    </tr>\n",
       "  </tbody>\n",
       "</table>\n",
       "</div>"
      ],
      "text/plain": [
       "    HS_CODE                                   PRODUCT  QUANTITY Unit  \\\n",
       "1  29362990                      DRUGS: CALCITRIOL EP      1.54  GMS   \n",
       "0  29362990  DRUGS: CALCITRIOL EP (WORKING STANDARDS)      0.02  GMS   \n",
       "\n",
       "   UNIT_RATE Currency  TOTAL_USD  \n",
       "1    4338.39      USD    6777.22  \n",
       "0   24655.64      USD     500.21  "
      ]
     },
     "execution_count": 105,
     "metadata": {},
     "output_type": "execute_result"
    }
   ],
   "source": [
    "data # data curresponding to hs code"
   ]
  },
  {
   "cell_type": "code",
   "execution_count": 106,
   "id": "7fc880fe-24ff-4b67-b0b8-18038636efb3",
   "metadata": {},
   "outputs": [
    {
     "data": {
      "text/html": [
       "<div>\n",
       "<style scoped>\n",
       "    .dataframe tbody tr th:only-of-type {\n",
       "        vertical-align: middle;\n",
       "    }\n",
       "\n",
       "    .dataframe tbody tr th {\n",
       "        vertical-align: top;\n",
       "    }\n",
       "\n",
       "    .dataframe thead th {\n",
       "        text-align: right;\n",
       "    }\n",
       "</style>\n",
       "<table border=\"1\" class=\"dataframe\">\n",
       "  <thead>\n",
       "    <tr style=\"text-align: right;\">\n",
       "      <th></th>\n",
       "      <th>QUANTITY</th>\n",
       "      <th>TOTAL_USD</th>\n",
       "      <th>UNIT_RATE</th>\n",
       "    </tr>\n",
       "    <tr>\n",
       "      <th>PRODUCT</th>\n",
       "      <th></th>\n",
       "      <th></th>\n",
       "      <th></th>\n",
       "    </tr>\n",
       "  </thead>\n",
       "  <tbody>\n",
       "    <tr>\n",
       "      <th>DRUGS: CALCITRIOL EP</th>\n",
       "      <td>1.54</td>\n",
       "      <td>6777.22</td>\n",
       "      <td>4338.39</td>\n",
       "    </tr>\n",
       "    <tr>\n",
       "      <th>DRUGS: CALCITRIOL EP (WORKING STANDARDS)</th>\n",
       "      <td>0.02</td>\n",
       "      <td>500.21</td>\n",
       "      <td>24655.64</td>\n",
       "    </tr>\n",
       "    <tr>\n",
       "      <th>TOTAL</th>\n",
       "      <td>1.56</td>\n",
       "      <td>7277.43</td>\n",
       "      <td>28994.03</td>\n",
       "    </tr>\n",
       "  </tbody>\n",
       "</table>\n",
       "</div>"
      ],
      "text/plain": [
       "                                          QUANTITY  TOTAL_USD  UNIT_RATE\n",
       "PRODUCT                                                                 \n",
       "DRUGS: CALCITRIOL EP                          1.54    6777.22    4338.39\n",
       "DRUGS: CALCITRIOL EP (WORKING STANDARDS)      0.02     500.21   24655.64\n",
       "TOTAL                                         1.56    7277.43   28994.03"
      ]
     },
     "execution_count": 106,
     "metadata": {},
     "output_type": "execute_result"
    }
   ],
   "source": [
    "data2  #data with agg."
   ]
  },
  {
   "cell_type": "code",
   "execution_count": null,
   "id": "f7c39ee9-6445-485b-beef-1d43982c3e8f",
   "metadata": {},
   "outputs": [],
   "source": []
  }
 ],
 "metadata": {
  "kernelspec": {
   "display_name": "Python 3 (ipykernel)",
   "language": "python",
   "name": "python3"
  },
  "language_info": {
   "codemirror_mode": {
    "name": "ipython",
    "version": 3
   },
   "file_extension": ".py",
   "mimetype": "text/x-python",
   "name": "python",
   "nbconvert_exporter": "python",
   "pygments_lexer": "ipython3",
   "version": "3.11.4"
  }
 },
 "nbformat": 4,
 "nbformat_minor": 5
}
